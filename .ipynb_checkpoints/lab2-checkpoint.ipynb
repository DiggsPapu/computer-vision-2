{
 "cells": [
  {
   "cell_type": "markdown",
   "id": "dd68fdec-560f-40e0-a8aa-ed4fcedcacc7",
   "metadata": {},
   "source": [
    "# Lab 2 - Vision por computadora"
   ]
  },
  {
   "cell_type": "markdown",
   "id": "1c41d465-3ac7-43a1-8f37-4b997e451372",
   "metadata": {},
   "source": [
    "## 1. Explicar Hit or Miss"
   ]
  },
  {
   "cell_type": "markdown",
   "id": "c792756b-165f-4aaa-838e-310aaddb100b",
   "metadata": {},
   "source": [
    "## 2. Trabajar con rice.jpg"
   ]
  },
  {
   "cell_type": "code",
   "execution_count": 2,
   "id": "7d93cbc0-4647-4448-abd0-1bc67e0d974e",
   "metadata": {},
   "outputs": [],
   "source": [
    "import pandas as pd\n",
    "import matplotlib.pyplot as plt\n",
    "import numpy as np\n",
    "from skimage.filters.thresholding import threshold_otsu"
   ]
  },
  {
   "cell_type": "markdown",
   "id": "51cd0e4b-fe52-4b72-a810-b8ea1e358f70",
   "metadata": {},
   "source": [
    " a) Binarizar la imagen mediante el método de Otsu, o usando algún otro método no local."
   ]
  },
  {
   "cell_type": "code",
   "execution_count": 4,
   "id": "825edf94-3021-4acb-8b07-bebd3d3a8ab4",
   "metadata": {},
   "outputs": [
    {
     "ename": "AttributeError",
     "evalue": "module 'matplotlib' has no attribute 'imread'",
     "output_type": "error",
     "traceback": [
      "\u001b[0;31m---------------------------------------------------------------------------\u001b[0m",
      "\u001b[0;31mAttributeError\u001b[0m                            Traceback (most recent call last)",
      "Cell \u001b[0;32mIn[4], line 2\u001b[0m\n\u001b[1;32m      1\u001b[0m \u001b[38;5;66;03m# Lectura imagen\u001b[39;00m\n\u001b[0;32m----> 2\u001b[0m rice \u001b[38;5;241m=\u001b[39m \u001b[43mplt\u001b[49m\u001b[38;5;241;43m.\u001b[39;49m\u001b[43mimread\u001b[49m(\u001b[38;5;124m'\u001b[39m\u001b[38;5;124mrice.jpg\u001b[39m\u001b[38;5;124m'\u001b[39m)\n\u001b[1;32m      3\u001b[0m \u001b[38;5;66;03m# Conversion imagen 8\u001b[39;00m\n\u001b[1;32m      4\u001b[0m rice \u001b[38;5;241m=\u001b[39m (rice \u001b[38;5;241m*\u001b[39m \u001b[38;5;241m255\u001b[39m)\u001b[38;5;241m.\u001b[39mastype(np\u001b[38;5;241m.\u001b[39muint8)\n",
      "File \u001b[0;32m/usr/local/lib/python3.9/site-packages/matplotlib/_api/__init__.py:217\u001b[0m, in \u001b[0;36mcaching_module_getattr.<locals>.__getattr__\u001b[0;34m(name)\u001b[0m\n\u001b[1;32m    215\u001b[0m \u001b[38;5;28;01mif\u001b[39;00m name \u001b[38;5;129;01min\u001b[39;00m props:\n\u001b[1;32m    216\u001b[0m     \u001b[38;5;28;01mreturn\u001b[39;00m props[name]\u001b[38;5;241m.\u001b[39m\u001b[38;5;21m__get__\u001b[39m(instance)\n\u001b[0;32m--> 217\u001b[0m \u001b[38;5;28;01mraise\u001b[39;00m \u001b[38;5;167;01mAttributeError\u001b[39;00m(\n\u001b[1;32m    218\u001b[0m     \u001b[38;5;124mf\u001b[39m\u001b[38;5;124m\"\u001b[39m\u001b[38;5;124mmodule \u001b[39m\u001b[38;5;132;01m{\u001b[39;00m\u001b[38;5;28mcls\u001b[39m\u001b[38;5;241m.\u001b[39m\u001b[38;5;18m__module__\u001b[39m\u001b[38;5;132;01m!r}\u001b[39;00m\u001b[38;5;124m has no attribute \u001b[39m\u001b[38;5;132;01m{\u001b[39;00mname\u001b[38;5;132;01m!r}\u001b[39;00m\u001b[38;5;124m\"\u001b[39m)\n",
      "\u001b[0;31mAttributeError\u001b[0m: module 'matplotlib' has no attribute 'imread'"
     ]
    }
   ],
   "source": [
    "# Lectura imagen\n",
    "rice = plt.imread('rice.jpg')\n",
    "# Conversion imagen 8\n",
    "rice = (rice * 255).astype(np.uint8)\n",
    "# Obtencion del threshold de Otsu\n",
    "otsuTh = threshold_otsu(rice, 255)\n",
    "print(otsuTh)\n",
    "# Binarización de la imagen mediante Otsu\n",
    "riceWithTh = 255 * ( rice >= otsuTh ).astype(np.uint8)\n",
    "# Display de la imagen binarizada\n",
    "plt.title(\"Otsu\")\n",
    "plt.imshow(riceWithTh, cmap='gray', vmin=0, vmax=255)\n",
    "plt.show()"
   ]
  }
 ],
 "metadata": {
  "kernelspec": {
   "display_name": "Python 3 (ipykernel)",
   "language": "python",
   "name": "python3"
  },
  "language_info": {
   "codemirror_mode": {
    "name": "ipython",
    "version": 3
   },
   "file_extension": ".py",
   "mimetype": "text/x-python",
   "name": "python",
   "nbconvert_exporter": "python",
   "pygments_lexer": "ipython3",
   "version": "3.9.21"
  }
 },
 "nbformat": 4,
 "nbformat_minor": 5
}
